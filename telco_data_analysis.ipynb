{
 "cells": [
  {
   "cell_type": "markdown",
   "id": "77b5eb2a",
   "metadata": {},
   "source": [
    "# 📊 Smart Insights & Analysis on Telco Data\n",
    "This notebook explores various business insights using pandas.\n"
   ]
  },
  {
   "cell_type": "code",
   "execution_count": 1,
   "id": "ba69cc04",
   "metadata": {},
   "outputs": [],
   "source": [
    "import pandas as pd\n",
    "\n",
    "# Read the Parquet file\n",
    "df = pd.read_parquet('customerswith-IMEI-LOCATIOION-USIM-ADS.parquet',engine='pyarrow')\n"
   ]
  },
  {
   "cell_type": "markdown",
   "id": "8ec7a960",
   "metadata": {},
   "source": [
    "## 🔍 15 Smart Insight Questions"
   ]
  },
  {
   "cell_type": "code",
   "execution_count": 2,
   "id": "fb059920",
   "metadata": {},
   "outputs": [
    {
     "data": {
      "text/plain": [
       "region\n",
       "BRAZZAVILLE      4004.866606\n",
       "SANGHA           3412.699161\n",
       "CUVETTE          2936.491620\n",
       "POINTE-NOIRE     2643.088438\n",
       "POOL             2550.199447\n",
       "CUVETTE-OUEST    2413.193824\n",
       "KOUILOU          2328.586189\n",
       "LEKOUMOU         2293.436140\n",
       "BOUENZA          2258.501945\n",
       "LIKOUALA         2165.338865\n",
       "PLATEAUX         2043.353760\n",
       "NIARI            1748.065590\n",
       "Name: total_rev, dtype: float64"
      ]
     },
     "execution_count": 2,
     "metadata": {},
     "output_type": "execute_result"
    }
   ],
   "source": [
    "# 1. Which region generates the highest average total revenue?\n",
    "df.groupby('region')['total_rev'].mean().sort_values(ascending=False)"
   ]
  },
  {
   "cell_type": "code",
   "execution_count": 3,
   "id": "33a67092",
   "metadata": {},
   "outputs": [
    {
     "data": {
      "text/plain": [
       "gender\n",
       "F    3125.456663\n",
       "M    3312.819519\n",
       "Name: total_rev, dtype: float64"
      ]
     },
     "execution_count": 3,
     "metadata": {},
     "output_type": "execute_result"
    }
   ],
   "source": [
    "# 2. Revenue difference between genders\n",
    "df.groupby('gender')['total_rev'].mean()"
   ]
  },
  {
   "cell_type": "code",
   "execution_count": 4,
   "id": "c0d1b396",
   "metadata": {},
   "outputs": [
    {
     "data": {
      "text/plain": [
       "first_call_month\n",
       "1970-01    2994.259978\n",
       "Freq: M, Name: total_rev, dtype: float64"
      ]
     },
     "execution_count": 4,
     "metadata": {},
     "output_type": "execute_result"
    }
   ],
   "source": [
    "# 3. Monthly revenue trend based on first call date\n",
    "df['first_call_month'] = pd.to_datetime(df['first_call_date']).dt.to_period('M')\n",
    "df.groupby('first_call_month')['total_rev'].mean()"
   ]
  },
  {
   "cell_type": "code",
   "execution_count": 5,
   "id": "05d78c4b",
   "metadata": {},
   "outputs": [
    {
     "data": {
      "text/plain": [
       "brand_name\n",
       "Asia Pacific                123091.500000\n",
       "Kapsys                       42634.500000\n",
       "Telular                      40070.833333\n",
       "Qianxing                     33190.000000\n",
       "Senseit.ru                   30252.000000\n",
       "Siemens                      28724.112000\n",
       "Derin Tecnology Products     25742.000000\n",
       "Ericsson                     22353.958333\n",
       "Song Ming                    19184.000000\n",
       "Omix                         19050.600000\n",
       "Name: total_rev, dtype: float64"
      ]
     },
     "execution_count": 5,
     "metadata": {},
     "output_type": "execute_result"
    }
   ],
   "source": [
    "# 4. Top revenue-generating device brands\n",
    "df.groupby('brand_name')['total_rev'].mean().sort_values(ascending=False).head(10)"
   ]
  },
  {
   "cell_type": "code",
   "execution_count": 6,
   "id": "38ccf313",
   "metadata": {},
   "outputs": [
    {
     "data": {
      "text/plain": [
       "device_capability\n",
       "2G     124.193473\n",
       "3G     664.340348\n",
       "4G    1972.593918\n",
       "5G    4820.676057\n",
       "No     514.383557\n",
       "Name: data_rev, dtype: float64"
      ]
     },
     "execution_count": 6,
     "metadata": {},
     "output_type": "execute_result"
    }
   ],
   "source": [
    "# 5. Data revenue by device capability\n",
    "df.groupby('device_capability')['data_rev'].mean()"
   ]
  },
  {
   "cell_type": "code",
   "execution_count": 7,
   "id": "19fdc229",
   "metadata": {},
   "outputs": [
    {
     "data": {
      "text/plain": [
       "department_city\n",
       "BRAZZAVILLE      4005.491643\n",
       "SANGHA           3412.699161\n",
       "CUVETTE          2936.491620\n",
       "POINTE-NOIRE     2643.088438\n",
       "POOL             2552.723636\n",
       "CUVETTE-OUEST    2413.193824\n",
       "KOUILOU          2328.586189\n",
       "LEKOUMOU         2293.436140\n",
       "BOUENZA          2259.230738\n",
       "LIKOUALA         2165.338865\n",
       "Name: total_rev, dtype: float64"
      ]
     },
     "execution_count": 7,
     "metadata": {},
     "output_type": "execute_result"
    }
   ],
   "source": [
    "# 6. Revenue per user by city\n",
    "df.groupby('department_city')['total_rev'].mean().sort_values(ascending=False).head(10)"
   ]
  },
  {
   "cell_type": "code",
   "execution_count": 8,
   "id": "b33f4b8f",
   "metadata": {},
   "outputs": [
    {
     "data": {
      "text/plain": [
       "rev_bracket\n",
       "5- Bottom 50    50.003474\n",
       "4- Next 30      29.998274\n",
       "3- Next 15      14.998055\n",
       "2- Next 4        4.000185\n",
       "1- Top 1         1.000013\n",
       "Name: proportion, dtype: float64"
      ]
     },
     "execution_count": 8,
     "metadata": {},
     "output_type": "execute_result"
    }
   ],
   "source": [
    "# 7. User distribution by revenue bracket\n",
    "df['rev_bracket'].value_counts(normalize=True) * 100"
   ]
  },
  {
   "cell_type": "code",
   "execution_count": 9,
   "id": "bd6291ad",
   "metadata": {},
   "outputs": [
    {
     "data": {
      "text/html": [
       "<div>\n",
       "<style scoped>\n",
       "    .dataframe tbody tr th:only-of-type {\n",
       "        vertical-align: middle;\n",
       "    }\n",
       "\n",
       "    .dataframe tbody tr th {\n",
       "        vertical-align: top;\n",
       "    }\n",
       "\n",
       "    .dataframe thead th {\n",
       "        text-align: right;\n",
       "    }\n",
       "</style>\n",
       "<table border=\"1\" class=\"dataframe\">\n",
       "  <thead>\n",
       "    <tr style=\"text-align: right;\">\n",
       "      <th></th>\n",
       "      <th>voice_rev</th>\n",
       "      <th>data_rev</th>\n",
       "    </tr>\n",
       "  </thead>\n",
       "  <tbody>\n",
       "    <tr>\n",
       "      <th>voice_rev</th>\n",
       "      <td>1.000000</td>\n",
       "      <td>0.233423</td>\n",
       "    </tr>\n",
       "    <tr>\n",
       "      <th>data_rev</th>\n",
       "      <td>0.233423</td>\n",
       "      <td>1.000000</td>\n",
       "    </tr>\n",
       "  </tbody>\n",
       "</table>\n",
       "</div>"
      ],
      "text/plain": [
       "           voice_rev  data_rev\n",
       "voice_rev   1.000000  0.233423\n",
       "data_rev    0.233423  1.000000"
      ]
     },
     "execution_count": 9,
     "metadata": {},
     "output_type": "execute_result"
    }
   ],
   "source": [
    "# 8. Correlation between voice and data revenue\n",
    "df[['voice_rev', 'data_rev']].corr()"
   ]
  },
  {
   "cell_type": "code",
   "execution_count": 10,
   "id": "2623377c",
   "metadata": {},
   "outputs": [
    {
     "data": {
      "text/plain": [
       "np.float64(0.6890701174272501)"
      ]
     },
     "execution_count": 10,
     "metadata": {},
     "output_type": "execute_result"
    }
   ],
   "source": [
    "# 9. Correlation between number of SMS and SMS revenue\n",
    "df[['nb_sms1', 'nb_sms2', 'nb_sms3']].sum(axis=1).corr(df['sms_rev'])"
   ]
  },
  {
   "cell_type": "code",
   "execution_count": 11,
   "id": "d30c45b5",
   "metadata": {},
   "outputs": [
    {
     "data": {
      "text/plain": [
       "volume_mb1    1786.184022\n",
       "volume_mb2    1848.175683\n",
       "volume_mb3    1649.712712\n",
       "dtype: float64"
      ]
     },
     "execution_count": 11,
     "metadata": {},
     "output_type": "execute_result"
    }
   ],
   "source": [
    "# 10. Average data usage across 3 periods\n",
    "df[['volume_mb1', 'volume_mb2', 'volume_mb3']].mean()"
   ]
  },
  {
   "cell_type": "code",
   "execution_count": 12,
   "id": "0650228d",
   "metadata": {},
   "outputs": [
    {
     "data": {
      "text/plain": [
       "district\n",
       "KOMONO      0.519288\n",
       "MAYOKO      0.508712\n",
       "MOKEKO      0.336587\n",
       "BAMBAMA     0.286041\n",
       "KELLE       0.267994\n",
       "LOUVAKOU    0.267494\n",
       "OKOYO       0.199920\n",
       "MINDOULI    0.184036\n",
       "DJAMBALA    0.155706\n",
       "DONGOU      0.154895\n",
       "Name: digital_rev_growth, dtype: float64"
      ]
     },
     "execution_count": 12,
     "metadata": {},
     "output_type": "execute_result"
    }
   ],
   "source": [
    "# 11. Districts with highest growth in digital revenue\n",
    "df['digital_rev_growth'] = df['digital_rev3'] - df['digital_rev1']\n",
    "df.groupby('district')['digital_rev_growth'].mean().sort_values(ascending=False).head(10)"
   ]
  },
  {
   "cell_type": "code",
   "execution_count": 13,
   "id": "d512968b",
   "metadata": {},
   "outputs": [
    {
     "data": {
      "text/plain": [
       "site_id\n",
       "1303.0    87776964.0\n",
       "1347.0    66154231.0\n",
       "1057.0    65753962.0\n",
       "1338.0    63116454.0\n",
       "3102.0    62347776.0\n",
       "1009.0    61350142.0\n",
       "1351.0    58240704.0\n",
       "1244.0    57634509.0\n",
       "1063.0    53888925.0\n",
       "1325.0    53533767.0\n",
       "Name: total_rev, dtype: float64"
      ]
     },
     "execution_count": 13,
     "metadata": {},
     "output_type": "execute_result"
    }
   ],
   "source": [
    "# 12. Top revenue-generating sites\n",
    "df.groupby('site_id')['total_rev'].sum().sort_values(ascending=False).head(10)"
   ]
  },
  {
   "cell_type": "code",
   "execution_count": 14,
   "id": "8f5ac1ae",
   "metadata": {},
   "outputs": [
    {
     "data": {
      "text/plain": [
       "sub_service_code\n",
       "POSTPAID    33219.727273\n",
       "HYBRID       7739.123767\n",
       "Unknown      3039.343856\n",
       "PREPAID      2932.606433\n",
       "Name: total_rev, dtype: float64"
      ]
     },
     "execution_count": 14,
     "metadata": {},
     "output_type": "execute_result"
    }
   ],
   "source": [
    "# 13. Revenue by sub_service_code\n",
    "df.groupby('sub_service_code')['total_rev'].mean().sort_values(ascending=False).head(10)"
   ]
  },
  {
   "cell_type": "code",
   "execution_count": 15,
   "id": "cce243f3",
   "metadata": {},
   "outputs": [
    {
     "data": {
      "text/plain": [
       "gender\n",
       "M    67.820319\n",
       "F    32.179681\n",
       "Name: proportion, dtype: float64"
      ]
     },
     "execution_count": 15,
     "metadata": {},
     "output_type": "execute_result"
    }
   ],
   "source": [
    "# 14. Gender distribution in top revenue bracket\n",
    "df[df['rev_bracket'] == df['rev_bracket'].max()]['gender'].value_counts(normalize=True) * 100"
   ]
  },
  {
   "cell_type": "code",
   "execution_count": 16,
   "id": "2010ee90",
   "metadata": {},
   "outputs": [
    {
     "data": {
      "text/plain": [
       "IsUSIM\n",
       "N    3088.491073\n",
       "Y    2966.483651\n",
       "Name: total_rev, dtype: float64"
      ]
     },
     "execution_count": 16,
     "metadata": {},
     "output_type": "execute_result"
    }
   ],
   "source": [
    "# 15. Revenue comparison between USIM and non-USIM users\n",
    "df.groupby('IsUSIM')['total_rev'].mean()"
   ]
  },
  {
   "cell_type": "markdown",
   "id": "c214c5f2",
   "metadata": {},
   "source": [
    "## 📈 5 Graph-Oriented Relationship Questions (Numbers Only)"
   ]
  },
  {
   "cell_type": "code",
   "execution_count": 17,
   "id": "1a9e367c",
   "metadata": {},
   "outputs": [
    {
     "data": {
      "text/html": [
       "<div>\n",
       "<style scoped>\n",
       "    .dataframe tbody tr th:only-of-type {\n",
       "        vertical-align: middle;\n",
       "    }\n",
       "\n",
       "    .dataframe tbody tr th {\n",
       "        vertical-align: top;\n",
       "    }\n",
       "\n",
       "    .dataframe thead th {\n",
       "        text-align: right;\n",
       "    }\n",
       "</style>\n",
       "<table border=\"1\" class=\"dataframe\">\n",
       "  <thead>\n",
       "    <tr style=\"text-align: right;\">\n",
       "      <th></th>\n",
       "      <th>total_rev</th>\n",
       "      <th>voice_rev</th>\n",
       "      <th>data_rev</th>\n",
       "      <th>sms_rev</th>\n",
       "    </tr>\n",
       "  </thead>\n",
       "  <tbody>\n",
       "    <tr>\n",
       "      <th>total_rev</th>\n",
       "      <td>1.000000</td>\n",
       "      <td>0.716554</td>\n",
       "      <td>0.760800</td>\n",
       "      <td>0.357753</td>\n",
       "    </tr>\n",
       "    <tr>\n",
       "      <th>voice_rev</th>\n",
       "      <td>0.716554</td>\n",
       "      <td>1.000000</td>\n",
       "      <td>0.233423</td>\n",
       "      <td>0.016871</td>\n",
       "    </tr>\n",
       "    <tr>\n",
       "      <th>data_rev</th>\n",
       "      <td>0.760800</td>\n",
       "      <td>0.233423</td>\n",
       "      <td>1.000000</td>\n",
       "      <td>0.019549</td>\n",
       "    </tr>\n",
       "    <tr>\n",
       "      <th>sms_rev</th>\n",
       "      <td>0.357753</td>\n",
       "      <td>0.016871</td>\n",
       "      <td>0.019549</td>\n",
       "      <td>1.000000</td>\n",
       "    </tr>\n",
       "  </tbody>\n",
       "</table>\n",
       "</div>"
      ],
      "text/plain": [
       "           total_rev  voice_rev  data_rev   sms_rev\n",
       "total_rev   1.000000   0.716554  0.760800  0.357753\n",
       "voice_rev   0.716554   1.000000  0.233423  0.016871\n",
       "data_rev    0.760800   0.233423  1.000000  0.019549\n",
       "sms_rev     0.357753   0.016871  0.019549  1.000000"
      ]
     },
     "execution_count": 17,
     "metadata": {},
     "output_type": "execute_result"
    }
   ],
   "source": [
    "# 1. Correlation between total_rev and other types of revenue\n",
    "df[['total_rev', 'voice_rev', 'data_rev', 'sms_rev']].corr()"
   ]
  },
  {
   "cell_type": "code",
   "execution_count": 18,
   "id": "0a298ef4",
   "metadata": {},
   "outputs": [
    {
     "data": {
      "text/plain": [
       "gender  region       \n",
       "F       BOUENZA          2107.793603\n",
       "        BRAZZAVILLE      4050.380535\n",
       "        CUVETTE          2710.621388\n",
       "        CUVETTE-OUEST    2360.732413\n",
       "        KOUILOU          2051.721155\n",
       "        LEKOUMOU         2140.726205\n",
       "        LIKOUALA         2133.684340\n",
       "        NIARI            1693.968652\n",
       "        PLATEAUX         1987.145327\n",
       "        POINTE-NOIRE     2795.534064\n",
       "        POOL             2296.158889\n",
       "        SANGHA           3336.340611\n",
       "M       BOUENZA          2474.160524\n",
       "        BRAZZAVILLE      4327.970472\n",
       "        CUVETTE          3400.372360\n",
       "        CUVETTE-OUEST    2845.520469\n",
       "        KOUILOU          2537.105669\n",
       "        LEKOUMOU         2556.131905\n",
       "        LIKOUALA         2453.220226\n",
       "        NIARI            1931.105914\n",
       "        PLATEAUX         2311.623515\n",
       "        POINTE-NOIRE     2773.075218\n",
       "        POOL             2811.120106\n",
       "        SANGHA           3847.851005\n",
       "Name: total_rev, dtype: float64"
      ]
     },
     "execution_count": 18,
     "metadata": {},
     "output_type": "execute_result"
    }
   ],
   "source": [
    "# 2. Avg total revenue per gender and region\n",
    "df.groupby(['gender', 'region'])['total_rev'].mean()"
   ]
  },
  {
   "cell_type": "code",
   "execution_count": 19,
   "id": "17bae62c",
   "metadata": {},
   "outputs": [
    {
     "data": {
      "text/html": [
       "<div>\n",
       "<style scoped>\n",
       "    .dataframe tbody tr th:only-of-type {\n",
       "        vertical-align: middle;\n",
       "    }\n",
       "\n",
       "    .dataframe tbody tr th {\n",
       "        vertical-align: top;\n",
       "    }\n",
       "\n",
       "    .dataframe thead th {\n",
       "        text-align: right;\n",
       "    }\n",
       "</style>\n",
       "<table border=\"1\" class=\"dataframe\">\n",
       "  <thead>\n",
       "    <tr style=\"text-align: right;\">\n",
       "      <th></th>\n",
       "      <th></th>\n",
       "      <th>volume_mb1</th>\n",
       "      <th>volume_mb2</th>\n",
       "      <th>volume_mb3</th>\n",
       "    </tr>\n",
       "    <tr>\n",
       "      <th>device_capability</th>\n",
       "      <th>gender</th>\n",
       "      <th></th>\n",
       "      <th></th>\n",
       "      <th></th>\n",
       "    </tr>\n",
       "  </thead>\n",
       "  <tbody>\n",
       "    <tr>\n",
       "      <th rowspan=\"2\" valign=\"top\">2G</th>\n",
       "      <th>F</th>\n",
       "      <td>324.667833</td>\n",
       "      <td>253.971282</td>\n",
       "      <td>133.143457</td>\n",
       "    </tr>\n",
       "    <tr>\n",
       "      <th>M</th>\n",
       "      <td>298.107244</td>\n",
       "      <td>234.548140</td>\n",
       "      <td>124.688639</td>\n",
       "    </tr>\n",
       "    <tr>\n",
       "      <th rowspan=\"2\" valign=\"top\">3G</th>\n",
       "      <th>F</th>\n",
       "      <td>1024.318089</td>\n",
       "      <td>1005.095156</td>\n",
       "      <td>815.470272</td>\n",
       "    </tr>\n",
       "    <tr>\n",
       "      <th>M</th>\n",
       "      <td>965.520918</td>\n",
       "      <td>962.852300</td>\n",
       "      <td>788.546956</td>\n",
       "    </tr>\n",
       "    <tr>\n",
       "      <th rowspan=\"2\" valign=\"top\">4G</th>\n",
       "      <th>F</th>\n",
       "      <td>3967.428725</td>\n",
       "      <td>4044.939367</td>\n",
       "      <td>3549.519456</td>\n",
       "    </tr>\n",
       "    <tr>\n",
       "      <th>M</th>\n",
       "      <td>3891.936263</td>\n",
       "      <td>4032.048624</td>\n",
       "      <td>3557.964882</td>\n",
       "    </tr>\n",
       "    <tr>\n",
       "      <th rowspan=\"2\" valign=\"top\">5G</th>\n",
       "      <th>F</th>\n",
       "      <td>8302.689470</td>\n",
       "      <td>8171.824197</td>\n",
       "      <td>7490.628790</td>\n",
       "    </tr>\n",
       "    <tr>\n",
       "      <th>M</th>\n",
       "      <td>6927.825406</td>\n",
       "      <td>6826.196144</td>\n",
       "      <td>6214.023383</td>\n",
       "    </tr>\n",
       "    <tr>\n",
       "      <th rowspan=\"2\" valign=\"top\">No</th>\n",
       "      <th>F</th>\n",
       "      <td>904.118572</td>\n",
       "      <td>888.611966</td>\n",
       "      <td>717.348955</td>\n",
       "    </tr>\n",
       "    <tr>\n",
       "      <th>M</th>\n",
       "      <td>896.630090</td>\n",
       "      <td>882.778985</td>\n",
       "      <td>717.061131</td>\n",
       "    </tr>\n",
       "  </tbody>\n",
       "</table>\n",
       "</div>"
      ],
      "text/plain": [
       "                           volume_mb1   volume_mb2   volume_mb3\n",
       "device_capability gender                                       \n",
       "2G                F        324.667833   253.971282   133.143457\n",
       "                  M        298.107244   234.548140   124.688639\n",
       "3G                F       1024.318089  1005.095156   815.470272\n",
       "                  M        965.520918   962.852300   788.546956\n",
       "4G                F       3967.428725  4044.939367  3549.519456\n",
       "                  M       3891.936263  4032.048624  3557.964882\n",
       "5G                F       8302.689470  8171.824197  7490.628790\n",
       "                  M       6927.825406  6826.196144  6214.023383\n",
       "No                F        904.118572   888.611966   717.348955\n",
       "                  M        896.630090   882.778985   717.061131"
      ]
     },
     "execution_count": 19,
     "metadata": {},
     "output_type": "execute_result"
    }
   ],
   "source": [
    "# 3. Average data volume by device capability and gender\n",
    "df.groupby(['device_capability', 'gender'])[['volume_mb1', 'volume_mb2', 'volume_mb3']].mean()"
   ]
  },
  {
   "cell_type": "code",
   "execution_count": 20,
   "id": "86e2f4b1",
   "metadata": {},
   "outputs": [
    {
     "data": {
      "text/html": [
       "<div>\n",
       "<style scoped>\n",
       "    .dataframe tbody tr th:only-of-type {\n",
       "        vertical-align: middle;\n",
       "    }\n",
       "\n",
       "    .dataframe tbody tr th {\n",
       "        vertical-align: top;\n",
       "    }\n",
       "\n",
       "    .dataframe thead th {\n",
       "        text-align: right;\n",
       "    }\n",
       "</style>\n",
       "<table border=\"1\" class=\"dataframe\">\n",
       "  <thead>\n",
       "    <tr style=\"text-align: right;\">\n",
       "      <th></th>\n",
       "      <th></th>\n",
       "      <th>dur_minutes1</th>\n",
       "      <th>dur_minutes2</th>\n",
       "      <th>dur_minutes3</th>\n",
       "    </tr>\n",
       "    <tr>\n",
       "      <th>month</th>\n",
       "      <th>gender</th>\n",
       "      <th></th>\n",
       "      <th></th>\n",
       "      <th></th>\n",
       "    </tr>\n",
       "  </thead>\n",
       "  <tbody>\n",
       "    <tr>\n",
       "      <th rowspan=\"2\" valign=\"top\">1</th>\n",
       "      <th>F</th>\n",
       "      <td>105.690186</td>\n",
       "      <td>103.689815</td>\n",
       "      <td>91.785879</td>\n",
       "    </tr>\n",
       "    <tr>\n",
       "      <th>M</th>\n",
       "      <td>122.564307</td>\n",
       "      <td>120.658143</td>\n",
       "      <td>107.328051</td>\n",
       "    </tr>\n",
       "  </tbody>\n",
       "</table>\n",
       "</div>"
      ],
      "text/plain": [
       "              dur_minutes1  dur_minutes2  dur_minutes3\n",
       "month gender                                          \n",
       "1     F         105.690186    103.689815     91.785879\n",
       "      M         122.564307    120.658143    107.328051"
      ]
     },
     "execution_count": 20,
     "metadata": {},
     "output_type": "execute_result"
    }
   ],
   "source": [
    "# 4. Avg voice duration by month and gender\n",
    "df['month'] = pd.to_datetime(df['first_call_date']).dt.month\n",
    "df.groupby(['month', 'gender'])[['dur_minutes1', 'dur_minutes2', 'dur_minutes3']].mean()"
   ]
  },
  {
   "cell_type": "code",
   "execution_count": 21,
   "id": "e62d0f63",
   "metadata": {},
   "outputs": [
    {
     "name": "stderr",
     "output_type": "stream",
     "text": [
      "C:\\Users\\Lenovo\\AppData\\Local\\Temp\\ipykernel_26740\\3428344108.py:2: FutureWarning: The default of observed=False is deprecated and will be changed to True in a future version of pandas. Pass observed=False to retain current behavior or observed=True to adopt the future default and silence this warning.\n",
      "  df.groupby(['rev_bracket', 'gender'])[['nb_sms1', 'nb_sms2', 'nb_sms3']].mean()\n"
     ]
    },
    {
     "data": {
      "text/html": [
       "<div>\n",
       "<style scoped>\n",
       "    .dataframe tbody tr th:only-of-type {\n",
       "        vertical-align: middle;\n",
       "    }\n",
       "\n",
       "    .dataframe tbody tr th {\n",
       "        vertical-align: top;\n",
       "    }\n",
       "\n",
       "    .dataframe thead th {\n",
       "        text-align: right;\n",
       "    }\n",
       "</style>\n",
       "<table border=\"1\" class=\"dataframe\">\n",
       "  <thead>\n",
       "    <tr style=\"text-align: right;\">\n",
       "      <th></th>\n",
       "      <th></th>\n",
       "      <th>nb_sms1</th>\n",
       "      <th>nb_sms2</th>\n",
       "      <th>nb_sms3</th>\n",
       "    </tr>\n",
       "    <tr>\n",
       "      <th>rev_bracket</th>\n",
       "      <th>gender</th>\n",
       "      <th></th>\n",
       "      <th></th>\n",
       "      <th></th>\n",
       "    </tr>\n",
       "  </thead>\n",
       "  <tbody>\n",
       "    <tr>\n",
       "      <th rowspan=\"2\" valign=\"top\">5- Bottom 50</th>\n",
       "      <th>F</th>\n",
       "      <td>43.075397</td>\n",
       "      <td>36.078049</td>\n",
       "      <td>30.936546</td>\n",
       "    </tr>\n",
       "    <tr>\n",
       "      <th>M</th>\n",
       "      <td>37.899113</td>\n",
       "      <td>32.156451</td>\n",
       "      <td>27.410797</td>\n",
       "    </tr>\n",
       "    <tr>\n",
       "      <th rowspan=\"2\" valign=\"top\">4- Next 30</th>\n",
       "      <th>F</th>\n",
       "      <td>229.103107</td>\n",
       "      <td>215.631173</td>\n",
       "      <td>178.534081</td>\n",
       "    </tr>\n",
       "    <tr>\n",
       "      <th>M</th>\n",
       "      <td>202.003992</td>\n",
       "      <td>191.989670</td>\n",
       "      <td>158.872757</td>\n",
       "    </tr>\n",
       "    <tr>\n",
       "      <th rowspan=\"2\" valign=\"top\">3- Next 15</th>\n",
       "      <th>F</th>\n",
       "      <td>327.723341</td>\n",
       "      <td>298.074158</td>\n",
       "      <td>251.084508</td>\n",
       "    </tr>\n",
       "    <tr>\n",
       "      <th>M</th>\n",
       "      <td>290.391613</td>\n",
       "      <td>272.092530</td>\n",
       "      <td>229.090868</td>\n",
       "    </tr>\n",
       "    <tr>\n",
       "      <th rowspan=\"2\" valign=\"top\">2- Next 4</th>\n",
       "      <th>F</th>\n",
       "      <td>292.894795</td>\n",
       "      <td>265.351766</td>\n",
       "      <td>225.532733</td>\n",
       "    </tr>\n",
       "    <tr>\n",
       "      <th>M</th>\n",
       "      <td>286.139815</td>\n",
       "      <td>266.759152</td>\n",
       "      <td>226.390988</td>\n",
       "    </tr>\n",
       "    <tr>\n",
       "      <th rowspan=\"2\" valign=\"top\">1- Top 1</th>\n",
       "      <th>F</th>\n",
       "      <td>227.575062</td>\n",
       "      <td>205.387071</td>\n",
       "      <td>176.577862</td>\n",
       "    </tr>\n",
       "    <tr>\n",
       "      <th>M</th>\n",
       "      <td>225.880768</td>\n",
       "      <td>212.875399</td>\n",
       "      <td>181.326653</td>\n",
       "    </tr>\n",
       "  </tbody>\n",
       "</table>\n",
       "</div>"
      ],
      "text/plain": [
       "                        nb_sms1     nb_sms2     nb_sms3\n",
       "rev_bracket  gender                                    \n",
       "5- Bottom 50 F        43.075397   36.078049   30.936546\n",
       "             M        37.899113   32.156451   27.410797\n",
       "4- Next 30   F       229.103107  215.631173  178.534081\n",
       "             M       202.003992  191.989670  158.872757\n",
       "3- Next 15   F       327.723341  298.074158  251.084508\n",
       "             M       290.391613  272.092530  229.090868\n",
       "2- Next 4    F       292.894795  265.351766  225.532733\n",
       "             M       286.139815  266.759152  226.390988\n",
       "1- Top 1     F       227.575062  205.387071  176.577862\n",
       "             M       225.880768  212.875399  181.326653"
      ]
     },
     "execution_count": 21,
     "metadata": {},
     "output_type": "execute_result"
    }
   ],
   "source": [
    "# 5. Avg SMS count by revenue bracket and gender\n",
    "df.groupby(['rev_bracket', 'gender'])[['nb_sms1', 'nb_sms2', 'nb_sms3']].mean()"
   ]
  }
 ],
 "metadata": {
  "kernelspec": {
   "display_name": "Python 3 (ipykernel)",
   "language": "python",
   "name": "python3"
  },
  "language_info": {
   "codemirror_mode": {
    "name": "ipython",
    "version": 3
   },
   "file_extension": ".py",
   "mimetype": "text/x-python",
   "name": "python",
   "nbconvert_exporter": "python",
   "pygments_lexer": "ipython3",
   "version": "3.10.1"
  }
 },
 "nbformat": 4,
 "nbformat_minor": 5
}
